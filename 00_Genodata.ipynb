{
 "cells": [
  {
   "cell_type": "code",
   "execution_count": null,
   "id": "0c3b2a2c-abae-4ce8-9746-4d203f3ff396",
   "metadata": {},
   "outputs": [],
   "source": [
    "# default_exp genodata"
   ]
  },
  {
   "cell_type": "code",
   "execution_count": null,
   "id": "580f3689-299d-42e0-9ad5-9fecd70b8161",
   "metadata": {},
   "outputs": [],
   "source": [
    "#hide\n",
    "%load_ext autoreload\n",
    "%autoreload 2"
   ]
  },
  {
   "cell_type": "markdown",
   "id": "10e4ca96-1e22-4b4b-b97b-de374d96f362",
   "metadata": {},
   "source": [
    "# Genodata module\n",
    "> read and extract genodata"
   ]
  },
  {
   "cell_type": "code",
   "execution_count": null,
   "id": "541585eb-f7af-4a3f-9253-c76af3935f5a",
   "metadata": {},
   "outputs": [],
   "source": [
    "#export\n",
    "import numpy as np\n",
    "import pandas as pd\n",
    "import dask.array as da\n",
    "from bgen_reader import open_bgen  \n",
    "from pandas_plink import read_plink"
   ]
  },
  {
   "cell_type": "code",
   "execution_count": null,
   "id": "5a3d424b-a360-4025-be0a-480c50306a46",
   "metadata": {},
   "outputs": [],
   "source": [
    "# export\n",
    "def read_bgen(file, sample_file=None):\n",
    "    '''the function to read genotype data'''\n",
    "    bg = open_bgen(file,verbose=False)\n",
    "    snp,aa0,aa1 = [],[],[]\n",
    "    for c,p,alleles in zip(bg.chromosomes,bg.positions,bg.allele_ids):\n",
    "        a0,a1 = alleles.split(',')\n",
    "        aa0.append(a0)\n",
    "        aa1.append(a1)\n",
    "        snp.append(':'.join(['chr'+str(int(c)),str(p),a0,a1]))  # '05' first change to int, then change to str\n",
    "    bim = pd.DataFrame({'chrom':bg.chromosomes.astype(int),'snp':snp,'pos':bg.positions,'a0':aa0,'a1':aa1})\n",
    "    if sample_file is not None:\n",
    "        fam = pd.read_csv(sample_file, header=0, delim_whitespace=True, quotechar='\"',skiprows=1)\n",
    "        fam.columns = ['fid','iid','missing','sex']\n",
    "        fam = fam\n",
    "    return bim,fam,bg"
   ]
  },
  {
   "cell_type": "code",
   "execution_count": null,
   "id": "c075f42b-7c1b-433a-a727-a04d28abfda5",
   "metadata": {},
   "outputs": [],
   "source": [
    "# export\n",
    "def bgen2dask(bgen,index,step=500):\n",
    "    '''The function to covert bgen to dask array'''\n",
    "    genos = []\n",
    "    n = len(index)\n",
    "    for i in range(0,n,step):\n",
    "        onecode_geno = bgen.read(index[i:min(n,i+step)])  #samples x variants\n",
    "        geno = onecode_geno.argmax(axis=2).astype(np.int8)\n",
    "        genos.append(da.from_array(geno))\n",
    "    return(da.concatenate(genos,axis=1).T)"
   ]
  },
  {
   "cell_type": "code",
   "execution_count": null,
   "id": "2c8db870-03cd-457a-b50f-2d33730d048f",
   "metadata": {},
   "outputs": [],
   "source": [
    "# export\n",
    "def extract_bed(geno,idx,row=True,step=500):  #row = True by variants, row = False by samples\n",
    "    if isinstance(geno,da.core.Array):\n",
    "        if row:\n",
    "            geno = geno[idx,:]\n",
    "        else:\n",
    "            geno = geno[:,idx]\n",
    "    else:\n",
    "        if row:\n",
    "            int_idx = list(idx[idx].index)\n",
    "            geno = bgen2dask(geno,int_idx,step)\n",
    "        else:\n",
    "            geno = geno.read() # read all variants\n",
    "            geno = geno[:,idx]\n",
    "    return geno"
   ]
  },
  {
   "cell_type": "code",
   "execution_count": null,
   "id": "013e285b-e619-4e65-b44f-503c2187b173",
   "metadata": {},
   "outputs": [],
   "source": [
    "# export\n",
    "class Genodata:\n",
    "    def __init__(self,geno_path,sample_path=None):\n",
    "        self.bim,self.fam,self.bed = self.read_geno(geno_path,sample_path)\n",
    "        \n",
    "    def __repr__(self): \n",
    "        return \"bim:% s \\n fam:% s \\n bed:%s\" % (self.bim, self.fam, self.bed)\n",
    "        \n",
    "    def read_geno(self,geno_file,sample_file):\n",
    "        if geno_file.endswith('.bed'):\n",
    "            return read_plink(geno_file[:-4], verbose=False)\n",
    "        elif geno_file.endswith('.bgen'):\n",
    "            sample_file = geno_file.replace('.bgen', '.sample')\n",
    "            return read_bgen(geno_file,sample_file)\n",
    "        else:\n",
    "            raise ValueError('Plesae provide the genotype files with PLINK binary format or BGEN format')\n",
    "    \n",
    "        \n",
    "    def geno_in_stat(self,stat,notin=False):\n",
    "        '''The function to find an overlap region between geno data with sumstat'''\n",
    "        variants = stat.SNP\n",
    "        self.extractbyvariants(variants,notin)\n",
    "        \n",
    "        \n",
    "    def geno_in_unr(self,unr):\n",
    "        '''The function to find an overlap samples between geno data with unr'''\n",
    "        samples = unr.IID\n",
    "        self.extractbysamples(samples)\n",
    "        \n",
    "    def extractbyregion(self,region):\n",
    "        bim = self.bim\n",
    "        idx = (bim.chrom == region[0]) & (bim.pos >= region[1]) & (bim.pos <= region[2])\n",
    "        #update bim,bed\n",
    "        self.bim = bim[idx]\n",
    "        self.bed = extract_bed(self.bed,idx)\n",
    "      \n",
    "    def extractbyvariants(self,variants,notin=False):  #variants is list or pd.Series\n",
    "        idx = self.bim.snp.isin(variants)\n",
    "        if notin:\n",
    "            idx = idx == False\n",
    "        #update bim,bed\n",
    "        self.bim = self.bim[idx]\n",
    "        self.bed = extract_bed(self.bed,idx)\n",
    "        \n",
    "    def extractbysamples(self,samples,notin=False): #samples is list or pd.Series\n",
    "        samples = pd.Series(samples,dtype=str)\n",
    "        idx = self.fam.iid.astype(str).isin(samples)\n",
    "        if notin:\n",
    "            idx = idx == False\n",
    "        #update fam,bed\n",
    "        self.fam = self.fam[idx]\n",
    "        self.bed = extract_bed(self.bed,idx,row=False)"
   ]
  },
  {
   "cell_type": "markdown",
   "id": "1d985e42-e25f-444d-b60f-2f9864a4da99",
   "metadata": {},
   "source": [
    "# Test"
   ]
  },
  {
   "cell_type": "code",
   "execution_count": null,
   "id": "607cf294-4c44-4f50-863e-425c0f3cb79f",
   "metadata": {},
   "outputs": [],
   "source": [
    "region = [5,272741,1213528-900000]\n",
    "geno_path = 'MWE_region_extraction/ukb23156_c5.merged.filtered.5_272741_1213528.bed'\n",
    "sumstats_path = 'MWE_region_extraction/090321_UKBB_Hearing_aid_f3393_expandedwhite_6436cases_96601ctrl_PC1_2_f3393.regenie.snp_stats'\n",
    "pheno_path = None\n",
    "unr_path = 'MWE_region_extraction/UKB_genotypedatadownloaded083019.090221_sample_variant_qc_final_callrate90.filtered.extracted.white_europeans.filtered.092821_ldprun_unrelated.filtered.prune.txt'\n",
    "imp_geno_path = 'MWE_region_extraction/ukb_imp_chr5_v3_05_272856_1213643.bgen'\n",
    "imp_sumstats_path = 'MWE_region_extraction/100521_UKBB_Hearing_aid_f3393_expandedwhite_15601cases_237318ctrl_500k_PC1_PC2_f3393.regenie.snp_stats'\n",
    "imp_ref = 'hg19'\n",
    "\n",
    "output_sumstats = 'test.snp_stats'\n",
    "output_LD = 'test_corr.csv'\n",
    "\n",
    "#main(region,geno_path,sumstats_path,pheno_path,unr_path,imp_geno_path,imp_sumstats_path,imp_ref,output_sumstats,output_LD)"
   ]
  },
  {
   "cell_type": "code",
   "execution_count": null,
   "id": "e09b6ad7-b5eb-43b2-bf46-94aadf98e3ce",
   "metadata": {},
   "outputs": [],
   "source": [
    "exome_geno = Genodata(geno_path)"
   ]
  },
  {
   "cell_type": "code",
   "execution_count": null,
   "id": "8915a454-2cda-4df4-8a2b-d08ff8e34392",
   "metadata": {},
   "outputs": [],
   "source": [
    "exome_geno.extractbyvariants(exome_geno.bim.snp[:50])"
   ]
  },
  {
   "cell_type": "code",
   "execution_count": null,
   "id": "ff878430-20fc-4034-979b-8eedf3bf028f",
   "metadata": {},
   "outputs": [],
   "source": [
    "exome_geno.extractbysamples(exome_geno.fam.iid[:60])"
   ]
  },
  {
   "cell_type": "code",
   "execution_count": null,
   "id": "e1db8bc2-66ff-4758-a1c0-d3d47f40c160",
   "metadata": {},
   "outputs": [],
   "source": []
  }
 ],
 "metadata": {
  "kernelspec": {
   "display_name": "Python 3 (ipykernel)",
   "language": "python",
   "name": "python3"
  }
 },
 "nbformat": 4,
 "nbformat_minor": 5
}
