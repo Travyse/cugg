{
 "cells": [
  {
   "cell_type": "code",
   "execution_count": null,
   "metadata": {},
   "outputs": [],
   "source": [
    "#default_exp liftover"
   ]
  },
  {
   "cell_type": "markdown",
   "metadata": {},
   "source": [
    "# Liftover module\n",
    "\n",
    "> Liftover genodata and sumstat"
   ]
  },
  {
   "cell_type": "code",
   "execution_count": null,
   "metadata": {},
   "outputs": [],
   "source": [
    "#hide\n",
    "from nbdev.showdoc import *"
   ]
  },
  {
   "cell_type": "code",
   "execution_count": null,
   "metadata": {},
   "outputs": [],
   "source": [
    "#export\n",
    "import gzip\n",
    "from liftover import get_lifter"
   ]
  },
  {
   "cell_type": "code",
   "execution_count": null,
   "metadata": {},
   "outputs": [],
   "source": [
    "#export\n",
    "class Liftover:\n",
    "    def __init__(self,fr='hg19',to='hg38'):\n",
    "        self.fr,self.to = fr,to\n",
    "        self.chainmap = get_lifter(fr, to)\n",
    "        #self.fasta \n",
    "              \n",
    "    def variants_liftover(self,chrom,pos):\n",
    "        if len(chrom) == 1:\n",
    "            chrom = [chrom]*len(pos)\n",
    "        lchr,lpos = [],[]\n",
    "        for c,p in zip(chrom,pos):\n",
    "            new_c,new_p = self.chrpos_liftover(c,p)\n",
    "            lchr.append(new_c)\n",
    "            lpos.append(new_p)\n",
    "        return lchr,lpos\n",
    "    \n",
    "    def chrpos_liftover(self,chrom,pos):\n",
    "        try:\n",
    "            new_c,new_p,_ = self.chainmap[int(chrom)][pos][0]\n",
    "            return int(new_c[3:]),new_p\n",
    "        except:\n",
    "            return 0,0\n",
    "           \n",
    "        #The function to liftover bim\n",
    "    def bim_liftover(self,bim):\n",
    "        new_bim = bim.copy()\n",
    "        lchr,lpos = self.variants_liftover(bim.CHR,bim.POS)\n",
    "        new_bim.CHR =lchr\n",
    "        new_bim.POS = lpos\n",
    "        new_bim.SNP = 'chr'+new_bim[['chrom','pos','a0','a1']].agg(':'.join, axis=1)\n",
    "        return new_bim\n",
    "\n",
    "    \n",
    "    def sumstat_liftover(self,ss):\n",
    "        new_ss = ss.copy()\n",
    "        lchr,lpos = self.variants_liftover(ss.chrom,ss.pos)\n",
    "        new_ss.chrom =lchr\n",
    "        new_ss.pos = lpos\n",
    "        new_ss.snp = 'chr'+new_ss[['CHR','POS','REF','ALT']].agg(':'.join, axis=1)\n",
    "        return new_ss\n",
    "    \n",
    "    def vcf_liftover(self,vcf):\n",
    "        vcf_out = vcf[:-7]+'_'+self.fr+'To'+self.to+vcf[-7:]\n",
    "        with gzip.open(vcf, 'rt') as ifile:\n",
    "            with gzip.open(vcf_out,'wt') as ofile:\n",
    "                for line in ifile:\n",
    "                    if line.startswith(\"#\"):\n",
    "                        ofile.write(line)\n",
    "                    else:\n",
    "                        variant = [x for x in line.split('\\t')]\n",
    "                        new_c,new_p = self.chrpos_liftover(int(variant[0]),int(variant[1]))\n",
    "                        variant[0] = str(new_c)\n",
    "                        variant[1] = str(new_p)\n",
    "                        variant[2] = 'chr'+':'.join(variant[:2]+variant[3:5])\n",
    "                        ofile.write('\\t'.join(variant))\n",
    "            ofile.close()       \n",
    "        ifile.close()\n",
    "        \n",
    "    def region_liftover(self):\n",
    "        pass\n",
    "    \n",
    "    def df_liftover(self):\n",
    "        pass\n"
   ]
  },
  {
   "cell_type": "code",
   "execution_count": null,
   "metadata": {},
   "outputs": [],
   "source": []
  }
 ],
 "metadata": {
  "kernelspec": {
   "display_name": "Python 3 (ipykernel)",
   "language": "python",
   "name": "python3"
  }
 },
 "nbformat": 4,
 "nbformat_minor": 4
}
