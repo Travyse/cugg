{
 "cells": [
  {
   "cell_type": "code",
   "execution_count": null,
   "metadata": {},
   "outputs": [],
   "source": [
    "# default_exp sumstat"
   ]
  },
  {
   "cell_type": "markdown",
   "metadata": {},
   "source": [
    "# Sumstat module\n",
    "\n",
    "> read and extract Sumstat"
   ]
  },
  {
   "cell_type": "code",
   "execution_count": null,
   "metadata": {},
   "outputs": [],
   "source": [
    "#hide\n",
    "from nbdev.showdoc import *"
   ]
  },
  {
   "cell_type": "code",
   "execution_count": null,
   "metadata": {},
   "outputs": [],
   "source": [
    "#export\n",
    "import yaml\n",
    "import numpy as np\n",
    "import pandas as pd\n",
    "from scipy.stats import norm\n",
    "from cugg.utils import *"
   ]
  },
  {
   "cell_type": "code",
   "execution_count": null,
   "metadata": {},
   "outputs": [],
   "source": [
    "#export\n",
    "def p2z(pval,beta,twoside=True):\n",
    "    if twoside:\n",
    "        pval = pval/2\n",
    "    z=np.abs(norm.ppf(pval))\n",
    "    ind=beta<0\n",
    "    z[ind]=-z[ind]\n",
    "    return z\n",
    "    \n",
    "class Sumstat:\n",
    "    def __init__(self,sumstat_path,config_file=None,rename=True):\n",
    "        self.ss = self.read_sumstat(sumstat_path,config_file,rename)\n",
    "        \n",
    "    def __repr__(self): \n",
    "        return \"sumstat:% s\" % (self.ss)\n",
    "        \n",
    "        #functions to read sumstats\n",
    "    def read_sumstat(self,file, config_file,rename):\n",
    "        if config_file is not None:\n",
    "            config_file = yaml.safe_load(open(config_file, 'r'))\n",
    "        return read_sumstat(file,config_file,rename)\n",
    "    \n",
    "    def extractbyregion(self,region):\n",
    "        sumstats = self.ss\n",
    "        idx = (sumstats.CHR == region[0]) & (sumstats.POS >= region[1]) & (sumstats.POS <= region[2])\n",
    "        print('this region',region,'has',sum(idx),'SNPs in Sumstat')\n",
    "        self.ss = sumstats[idx]\n",
    "        \n",
    "    def extractbyvariants(self,variants,notin=False):\n",
    "        idx = self.ss.SNP.isin(variants)\n",
    "        if notin:\n",
    "            idx = idx == False\n",
    "        #update sumstats\n",
    "        self.ss = self.ss[idx]\n",
    "        \n",
    "    def calculateZ(self):\n",
    "        self.ss['Z'] = list(p2z(self.ss.P,self.ss.BETA))\n",
    "        \n",
    "    def match_ss(self,bim):\n",
    "        self.ss = check_ss1(self.ss,bim)\n",
    "        \n",
    "        "
   ]
  },
  {
   "cell_type": "code",
   "execution_count": null,
   "metadata": {},
   "outputs": [],
   "source": [
    "#export\n",
    "def read_sumstat(file, config,rename=True):\n",
    "    try:\n",
    "        sumstats = pd.read_csv(file, compression='gzip', header=0, sep='\\t', quotechar='\"')\n",
    "    except:\n",
    "        sumstats = pd.read_csv(file, header=0, sep='\\t', quotechar='\"')\n",
    "    if config is not None:\n",
    "        try:\n",
    "            ID = config.pop('ID').split(',')\n",
    "            sumstats = sumstats.loc[:,list(config.values())]\n",
    "            sumstats.columns = list(config.keys())\n",
    "            sumstats.index = namebyordA0_A1(sumstats[ID],cols=ID)\n",
    "        except:\n",
    "            raise ValueError(f'According to config_file, input summary statistics should have the following columns: %s' % list(config.values()))\n",
    "        sumstats.columns = list(config.keys())\n",
    "    if rename:\n",
    "        sumstats.SNP = 'chr'+sumstats.CHR.astype(str) + ':' + sumstats.POS.astype(str) + '_' + sumstats.A0.astype(str) + '_' + sumstats.A1.astype(str)\n",
    "    sumstats.CHR = sumstats.CHR.astype(str).str.strip(\"chr\").astype(int)\n",
    "    sumstats.POS = sumstats.POS.astype(int)\n",
    "    return sumstats"
   ]
  },
  {
   "cell_type": "markdown",
   "metadata": {},
   "source": [
    "## Sumstat 2 vcf\n",
    "Following function take a sumstat pandas.df object that were processed and with correct headers ('CHR', 'POS', 'SNP', 'A0', 'A1',\"STAT\",\"SE\",\"P\"). and then change it into a vcf file with 1 samples. When the sumstat have gene name in it, the gene name will be saved to the info field."
   ]
  },
  {
   "cell_type": "code",
   "execution_count": null,
   "metadata": {},
   "outputs": [],
   "source": [
    "#export\n",
    "def ss_2_vcf(ss_df,name = \"name\"):\n",
    "    ## Geno field\n",
    "    df = pd.DataFrame()\n",
    "    df[['#CHROM', 'POS', 'ID', 'REF', 'ALT']] = ss_df[['CHR', 'POS', 'SNP', 'A0', 'A1']].sort_values(['CHR', 'POS'])\n",
    "    ## Info field(Empty)\n",
    "    df['QUAL'] = \".\"\n",
    "    df['FILTER'] = \"PASS\"\n",
    "    df['INFO'] = \".\"\n",
    "    if \"GENE\" in ss_df.columns:\n",
    "        df['INFO'] = \"GENE = \" + ss_df[\"GENE\"]\n",
    "    ### FIXME: Need a way to customize the headers based on format field\n",
    "    header = '##fileformat=VCFv4.2\\n' + \\\n",
    "    '##FILTER=<ID=PASS,Description=\"All filters passed\">\\n' + \\\n",
    "    '##fileDate=${time.strftime(\"%Y%m%d\",time.localtime())}\\n'+ \\\n",
    "    '##FORMAT=<ID=ES,Number=A,Type=Float,Description=\"Effect size estimate relative to the alternative allele\">\\n' + \\\n",
    "    '##FORMAT=<ID=SE,Number=A,Type=Float,Description=\"Standard error of effect size estimate\">\\n' + \\\n",
    "    '##FORMAT=<ID=P,Number=A,Type=Float,Description=\"The Pvalue corresponding to ES\">\\n' \n",
    "    ## format and sample field\n",
    "    df['FORMAT'] = \":\".join(ss_df[[\"STAT\",\"SE\",\"P\"]].columns.values.tolist())\n",
    "    df[f'{name}'] = ss_df['STAT'].astype(str) + \":\" + ss_df['SE'].astype(str) + \":\" + ss_df['P'].astype(str)\n",
    "    ## Rearrangment\n",
    "    df = df[['#CHROM', 'POS', 'ID', 'REF', 'ALT', 'QUAL', 'FILTER', 'INFO','FORMAT',f'{name}']]\n",
    "    return df,header"
   ]
  }
 ],
 "metadata": {
  "kernelspec": {
   "display_name": "Python 3 (ipykernel)",
   "language": "python",
   "name": "python3"
  },
  "language_info": {
   "codemirror_mode": {
    "name": "ipython",
    "version": 3
   },
   "file_extension": ".py",
   "mimetype": "text/x-python",
   "name": "python",
   "nbconvert_exporter": "python",
   "pygments_lexer": "ipython3",
   "version": "3.9.5"
  }
 },
 "nbformat": 4,
 "nbformat_minor": 4
}
